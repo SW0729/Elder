{
 "cells": [
  {
   "cell_type": "markdown",
   "metadata": {},
   "source": [
    "모듈이란\n",
    "모듈은 Python에서 관련된 함수, 클래스, 변수 등을 하나의 파일에 모아놓은 코드 묶음이다.\n",
    "\n",
    "모듈을 사용하면 코드를 재사용하고, 논리적으로 구분하여 관리할 수 있다.\n",
    "\n",
    "간단히 말해, Python 파일(.py) 하나가 하나의 모듈이 된다.\n",
    "\n",
    " \n",
    "\n",
    "모듈의 장점\n",
    "코드 재사용성: 한 번 작성된 코드를 여러 프로그램에서 재사용 가능\n",
    "코드 관리 용이성: 코드를 논리적인 단위로 나누어 관리\n",
    "이름 공간 관리: 모듈은 각기 다른 이름 공간을 가지므로, 이름 충돌을 피할 수 있다.\n",
    "# my_module.py라는 모듈\n",
    "def greet(name):\n",
    "    return f\"안녕하세요, {name}님!\"\n",
    "\n",
    " \n",
    "\n",
    "greet 함수가 포함된  my_module.py 파일이 하나의 모듈이다."
   ]
  }
 ],
 "metadata": {
  "language_info": {
   "name": "python"
  }
 },
 "nbformat": 4,
 "nbformat_minor": 2
}
