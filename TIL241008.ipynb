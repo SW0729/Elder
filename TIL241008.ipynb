{
 "cells": [
  {
   "cell_type": "markdown",
   "metadata": {},
   "source": [
    "NumPy 배열(array) 생성하기\n",
    "리스트로부터 배열 생성\n",
    "리스트를 배열로 변환 \n",
    "import numpy as np\n",
    "\n",
    "# 리스트로부터 배열 생성\n",
    "arr = np.array([1, 2, 3, 4, 5])\n",
    "print(arr)\n",
    "\n",
    " \n",
    "\n",
    "출력 결과\n",
    "[1 2 3 4 5]\n",
    "\n",
    " \n",
    "\n",
    "다양한 형태의 배열 생성\n",
    "0으로 채워진 배열 생성\n",
    "zero_arr = np.zeros((2, 3))  # 2x3 크기의 배열\n",
    "print(zero_arr)\n",
    "\n",
    " \n",
    "\n",
    "출력 결과\n",
    "[[1. 1.]\n",
    " [1. 1.]\n",
    " [1. 1.]]\n",
    "\n",
    " \n",
    "\n",
    "특정 값으로 채워진 배열 생성\n",
    "full_arr = np.full((2, 2), 7)  # 2x2 크기의 7로 채워진 배열\n",
    "print(full_arr)\n",
    "\n",
    " \n",
    "\n",
    "출력 결과\n",
    "[[7 7]\n",
    " [7 7]]\n",
    "\n",
    " \n",
    "\n",
    "연속적인 값으로 채워진 배열 생성\n",
    "range_arr = np.arange(10)  # 0부터 9까지의 연속된 값\n",
    "print(range_arr)\n",
    "\n",
    " \n",
    "\n",
    "출력 결과\n",
    "[0 1 2 3 4 5 6 7 8 9]"
   ]
  }
 ],
 "metadata": {
  "language_info": {
   "name": "python"
  }
 },
 "nbformat": 4,
 "nbformat_minor": 2
}
